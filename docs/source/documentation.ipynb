{
 "cells": [
  {
   "cell_type": "markdown",
   "metadata": {},
   "source": [
    "Tensorflow - Solving Differential Equations   \n",
    "-------------------------------------------------------------\n",
    "\n",
    "With Tensorflow, formalize how to work with what's described at the end of <i>Techniques in Fractal Geometry</i> by Kenneth Falconer: \"there are certain circumstances when it is appropriate to seek solutions of a 'differential equation' defined on a set that is itself fractal, <b>for example when modelling conduction of</b> heat or <b>electricity through a highly porous material</b>.\"  \n",
    "\n",
    "Here be buried theoretical biotech treasure guarded by mathematical dragons.  \n",
    "\n",
    "Notebooks: \n",
    "----------------\n",
    "\n",
    "*Nonlinear Dynamics*  \n",
    "* Right now this is basically the development notebook. If I get it something working here I'll port it over into its own notebook or Helper  \n",
    "\n",
    "*Simple Harmonic Motion*  \n",
    "* Simple harmonic motion in some of its various incarnations  \n",
    "\n",
    "*Single Neuron Models*  \n",
    "* ODEs that model ion channel recovery variables and membrane potential of a single neuron  \n",
    "\n",
    "*Coupled Neuron Models*  \n",
    "* ODEs that model ion channel recovery variables and membrane potential of coupled neurons\n",
    "* Asynchronous weak coupling\n",
    "* Synchronous strong coupling\n",
    "\n",
    "\n",
    "\n",
    "Helper Functions:   \n",
    "--------------------------\n",
    "* Helper functions are used to make the notebook code less verbose, they will appear in Helper.py  \n",
    "* The goal of the helper functions is to abstract the user away from as much of the nut and bolts of the codey coding as possible in order to allow more focus on manipulation and experimentation with the mathematical models under study\n",
    "\n",
    "\n",
    "Requirements:    \n",
    "---------------------\n",
    "* All of this stuff is built inside a Conda environment, I will do my best to keep requirements updated so that these notebooks are more or less portable across platforms and results displayed in the notebooks are reproducable "
   ]
  },
  {
   "cell_type": "markdown",
   "metadata": {},
   "source": [
    "References  \n",
    "----------------\n",
    "\n",
    "There are many reference works in the field for most of the models reproduced in these notebooks. I will do my best to keep this reference list updated as it is pertinent in the development of these models.  \n",
    "\n",
    "*Fitzhugh-Nagumo:*  \n",
    "* FitzHugh R. (1961) Impulses and physiological states in theoretical models of nerve membrane. Biophysical J. 1:445-466 http://europepmc.org/backend/ptpmcrender.fcgi?accid=PMC1366333&blobtype=pdf  \n",
    "\n",
    "*Morris-Lecar:*  \n",
    "* Computational Cell Biology: https://www.springer.com/us/book/9780387953694  \n",
    "\n",
    "*Hindmarsh-Rose:*  \n",
    "* Hindmarsh J. L.; Rose R. M. (1984). \"A model of neuronal bursting using three coupled first order differential equations\". Proc. R. Soc. London, Ser. B. 221: 87–102.  \n",
    "\n",
    "*Hodgkin-Huxley:*  \n",
    "* Hodgkin AL, Huxley AF (August 1952). \"A quantitative description of membrane current and its application to conduction and excitation in nerve\". The Journal of Physiology. 117 (4): 500–44.  https://www.ncbi.nlm.nih.gov/pmc/articles/PMC1392413/pdf/jphysiol01442-0106.pdf  "
   ]
  }
 ],
 "metadata": {
  "kernelspec": {
   "display_name": "Python [conda env:root]",
   "language": "python",
   "name": "conda-root-py"
  },
  "language_info": {
   "codemirror_mode": {
    "name": "ipython",
    "version": 3
   },
   "file_extension": ".py",
   "mimetype": "text/x-python",
   "name": "python",
   "nbconvert_exporter": "python",
   "pygments_lexer": "ipython3",
   "version": "3.7.0"
  }
 },
 "nbformat": 4,
 "nbformat_minor": 2
}
