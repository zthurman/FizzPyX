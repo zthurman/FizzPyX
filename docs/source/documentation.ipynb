{
 "cells": [
  {
   "cell_type": "markdown",
   "metadata": {},
   "source": [
    "Tensorflow - Solving Differential Equations   \n",
    "-------------------------------------------------------------\n",
    "\n",
    "With Tensorflow, formalize how to work with what's described at the end of <i>Techniques in Fractal Geometry</i> by Kenneth Falconer: \"there are certain circumstances when it is appropriate to seek solutions of a 'differential equation' defined on a set that is itself fractal, <b>for example when modelling conduction of</b> heat or <b>electricity through a highly porous material</b>.\"  \n",
    "\n",
    "Here be buried theoretical biotech treasure guarded by mathematical dragons.  \n",
    "\n",
    "This library is meant to be used as a tool for making the learning curve shallower for problems in the domain described above. Neuroscience is benefitting from interdisciplinary resources, this library is meant to be an amalgamation of those interdisciplinary tools. \n",
    "\n",
    "The most complicated object in the known universe sits between each of our ears, this repo is ultimately an insignificant little side project meant to help us to understand more about that complicated object."
   ]
  },
  {
   "cell_type": "markdown",
   "metadata": {},
   "source": [
    "Examples: \n",
    "---------------\n",
    "\n",
    "The examples for this library are all jupyter notebooks. As a matter of fact, the documentation for this library is also a jupyter notebook. Jupyter notebooks are elegant and useful little browser interfaces for experimenting with and understanding code. Little blurbs about the different notebooks are found below.\n",
    "\n",
    "*Nonlinear Dynamics*  \n",
    "* Right now this is basically the development notebook. If something is working here it's ported into a Model subclass\n",
    "\n",
    "*Simple Harmonic Motion*  \n",
    "* Simple harmonic motion in some of its various incarnations  \n",
    "\n",
    "*Single Neuron Models*  \n",
    "* ODEs that model ion channel recovery variables and membrane potential of a single neuron  \n",
    "\n",
    "*Coupled Neuron Models*  \n",
    "* ODEs that model ion channel recovery variables and membrane potential of coupled neurons\n",
    "* Asynchronous weak coupling\n",
    "* Synchronous strong coupling"
   ]
  },
  {
   "cell_type": "markdown",
   "metadata": {},
   "source": [
    "\n",
    "Core:   \n",
    "--------------------------\n",
    "* The core of this library contains the Model class. The eventual goal of Model is to take in arbitrary tensors as inputs and use those to generate the tensors that represent equations for an arbitrary ODE model. \n",
    "* Right now core falls well short of that goal but encapsulates most of the knowledge accumulated over the last ten years regarding solving systems of ordinary differential equations."
   ]
  },
  {
   "cell_type": "markdown",
   "metadata": {},
   "source": [
    "Requirements:    \n",
    "---------------------\n",
    "* All of this stuff is built inside a Conda environment. The requirements for the conda environment are found in the environment.yml file at the root of the repository. It's huge and gross but once the stack is assembled it usually makes for a pretty simple way to interact with systems of ODEs."
   ]
  },
  {
   "cell_type": "markdown",
   "metadata": {},
   "source": [
    "References  \n",
    "----------------\n",
    "\n",
    "There are many reference works in the field for most of the models reproduced in these notebooks. I will do my best to keep this reference list updated as it is pertinent in the development of solution mechanisms for these models.  \n",
    "\n",
    "*Fitzhugh-Nagumo:*  \n",
    "* FitzHugh R. (1961) Impulses and physiological states in theoretical models of nerve membrane. Biophysical J. 1:445-466 http://europepmc.org/backend/ptpmcrender.fcgi?accid=PMC1366333&blobtype=pdf  \n",
    "\n",
    "*Morris-Lecar:*  \n",
    "* Computational Cell Biology: https://www.springer.com/us/book/9780387953694  \n",
    "\n",
    "*Hindmarsh-Rose:*  \n",
    "* Hindmarsh J. L.; Rose R. M. (1984). \"A model of neuronal bursting using three coupled first order differential equations\". Proc. R. Soc. London, Ser. B. 221: 87–102.  \n",
    "\n",
    "*Hodgkin-Huxley:*  \n",
    "* Hodgkin AL, Huxley AF (August 1952). \"A quantitative description of membrane current and its application to conduction and excitation in nerve\". The Journal of Physiology. 117 (4): 500–44.  https://www.ncbi.nlm.nih.gov/pmc/articles/PMC1392413/pdf/jphysiol01442-0106.pdf  "
   ]
  }
 ],
 "metadata": {
  "kernelspec": {
   "display_name": "Python [conda env:root]",
   "language": "python",
   "name": "conda-root-py"
  },
  "language_info": {
   "codemirror_mode": {
    "name": "ipython",
    "version": 3
   },
   "file_extension": ".py",
   "mimetype": "text/x-python",
   "name": "python",
   "nbconvert_exporter": "python",
   "pygments_lexer": "ipython3",
   "version": "3.7.0"
  }
 },
 "nbformat": 4,
 "nbformat_minor": 2
}
