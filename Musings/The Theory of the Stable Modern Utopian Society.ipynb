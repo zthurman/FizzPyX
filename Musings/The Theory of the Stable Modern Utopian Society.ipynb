{
 "cells": [
  {
   "cell_type": "markdown",
   "metadata": {},
   "source": [
    "## The Theory of the Stable Modern Utopian Society\n",
    "---\n",
    "\n",
    "In the modern age a person can grow up without a form of a god or religion and still make the decision to live a life that would be considered good by the standards of society. \n",
    "Or in terms of more blunt social theory, an intelligent logical person is more benefited by the benovolence of a modern society than by malignance simply because of a striving towards a maximal self preservaton result for themself. This is why people are for the most part good and why modern society continues to advance instead of deterioriating.\n",
    "\n",
    "---\n",
    "\n",
    "This has several implications:\n",
    "* Eventually there comes a point in your life where you're satisfied with the status quo and you would prefer for the status quo to stay the way that it was.\n",
    "* There are outliers in society who are anomalous because they do not recognize a time that they are ever satisfied with the status quo and therefore imbalance the status quo for the species.\n",
    "    * If kept in check this is how society can continue indefinitely in a utopian state.\n",
    "* We are approaching that utopia right now\n",
    "* We are living through it but we're getting to the point where the homeless can have a higher standard of living than they ever have. This is an interesting phenomena because the previous generation of people were raised to denounce those who were not actively contributing to society, laziness was recognized as destructive to society. With the age of automation and technology and the aforementioned utopia laziness is not destructive if all of the members are fed and happy and able to live as they want to.\n",
    "* This is a social attractor stable fixed point state, where everyone can live as long as they want to as they want to and society still flourish. There are tools for those who want to work to get prodigious amounts of things done and be rewarded for it\n",
    "* We can asymptotically approach this utopian stable fixed point to infinity.\n",
    "* I believe that we are already very close to the asymptote and that the longer that we make it on our journey towards the asymptote the longer that we will be able to do so at least until the end of the universe that we live in.\n",
    "* There are plenty of pessimists out there, I'd rather be an optimist and this is a logical positive outcome for society.\n",
    "\n",
    "---\n"
   ]
  }
 ],
 "metadata": {
  "kernelspec": {
   "display_name": "Python [conda env:tensorflow]",
   "language": "python",
   "name": "conda-env-tensorflow-py"
  },
  "language_info": {
   "codemirror_mode": {
    "name": "ipython",
    "version": 3
   },
   "file_extension": ".py",
   "mimetype": "text/x-python",
   "name": "python",
   "nbconvert_exporter": "python",
   "pygments_lexer": "ipython3",
   "version": "3.6.5"
  }
 },
 "nbformat": 4,
 "nbformat_minor": 2
}
