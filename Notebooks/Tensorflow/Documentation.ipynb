{
 "cells": [
  {
   "cell_type": "markdown",
   "metadata": {},
   "source": [
    "## Tensorflow - Solving Differential Equations   \n",
    "---\n",
    "\n",
    "With Tensorflow, formalize how to work with what's described at the end of <i>Techniques in Fractal Geometry</i> by Kenneth Falconer: \"there are certain circumstances when it is appropriate to seek solutions of a 'differential equation' defined on a set that is itself fractal, <b>for example when modelling conduction of</b> heat or <b>electricity through a highly porous material</b>.\"  \n",
    "\n",
    "Here be buried theoretical biotech treasure guarded by mathematical dragons.  \n",
    "\n",
    "---\n",
    "\n",
    "### Notebooks: \n",
    "---\n",
    "#### Nonlinear Dynamics  \n",
    "* Right now this is basically the development notebook. If I get it something working here I'll port it over into its own notebook or Helper  \n",
    "\n",
    "#### SHM  \n",
    "* Simple harmonic motion in its various incarnations  \n",
    "\n",
    "#### Single Neuron Models   \n",
    "* ODEs that model ion channel recovery variables and membrane potential of a single neuron  \n",
    "\n",
    "#### Coupled Neuron Models  \n",
    "* ODEs that model ion channel recovery variables and membrane potential of coupled neurons    \n",
    "\n",
    "---\n",
    "\n",
    "### Helper Functions:   \n",
    "---\n",
    "* Helper functions are used to make the notebook code less verbose, they will appear in Helper.py  \n",
    "---\n",
    "### Requirements:    \n",
    "---\n",
    "* All of this stuff is built inside a Conda environment, I will do my best to keep requirements updated so that these notebooks are more or less portable across platforms and results displayed in the notebooks are reproducable \n",
    "---"
   ]
  }
 ],
 "metadata": {
  "kernelspec": {
   "display_name": "Python [conda env:tensorflow]",
   "language": "python",
   "name": "conda-env-tensorflow-py"
  },
  "language_info": {
   "codemirror_mode": {
    "name": "ipython",
    "version": 3
   },
   "file_extension": ".py",
   "mimetype": "text/x-python",
   "name": "python",
   "nbconvert_exporter": "python",
   "pygments_lexer": "ipython3",
   "version": "3.6.5"
  }
 },
 "nbformat": 4,
 "nbformat_minor": 2
}
