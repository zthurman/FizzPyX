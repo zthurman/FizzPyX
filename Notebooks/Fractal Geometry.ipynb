{
 "cells": [
  {
   "cell_type": "markdown",
   "metadata": {},
   "source": [
    "## Tensorflow Fractal Geometry  \n",
    "\n",
    "With Tensorflow, formalize how to work with what's described at the end of Techniques in Fractal Geometry by Kenneth Falconer: \"there are certain circumstances when it is appropriate to seek solutions of a 'differential equation' defined on a set that is itself fractal, <b>for example when modelling conduction of</b> heat or <b>electricity through a highly porous material</b>.\"  \n",
    "\n",
    "Here be buried theoretical biotech treasure guarded by mathematical dragons.  \n",
    "\n",
    "#### General Models\n",
    "* Lorenz Attractor   \n",
    "* Reaction-Diffusion <i>(Future)</i>  \n",
    "* Heat Equation on Regions with a Fractal Boundary <i>(Future)</i>  \n",
    "\n",
    "#### Non-Linear Oscillators\n",
    "* Damped SHM  \n",
    "* Izhikevich  <i>(Future)</i>  \n",
    "* Fitzhugh-Nagumo  \n",
    "* Hodgkins-Huxley  <i>(Future)</i>  \n"
   ]
  },
  {
   "cell_type": "code",
   "execution_count": 1,
   "metadata": {},
   "outputs": [],
   "source": [
    "# Shebang Shiznat Borgersnot\n",
    "import tensorflow as tf\n",
    "import numpy as np\n",
    "import tqdm\n",
    "import TensorFlowDiffEq as diff_eq\n",
    "import matplotlib.pyplot as plt\n"
   ]
  },
  {
   "cell_type": "markdown",
   "metadata": {},
   "source": [
    "#### Lorenz Attractor Formulation  "
   ]
  },
  {
   "cell_type": "code",
   "execution_count": 7,
   "metadata": {},
   "outputs": [
    {
     "name": "stderr",
     "output_type": "stream",
     "text": [
      "100%|██████████| 2000/2000 [00:09<00:00, 201.87it/s]\n",
      "No handles with labels found to put in legend.\n"
     ]
    },
    {
     "data": {
      "image/png": "[encoded data removed]",
      "text/plain": [
       "<matplotlib.figure.Figure at 0x7cfd70c8e550>"
      ]
     },
     "metadata": {},
     "output_type": "display_data"
    }
   ],
   "source": [
    "# xdot = sigma * (y - x)\n",
    "# ydot = -sigma * x - y - x * z\n",
    "# zdot = x * y - b * z - b * (r + sigma)\n",
    "\n",
    "# Where:    sigma, b and r are constants\n",
    "\n",
    "# Ye Olde Moldy Model Funktion\n",
    "# def Lorenz(sigma=None, rho=None, beta=None):\n",
    "#     def model(x, t, sigma=sigma, rho=rho, beta=beta):\n",
    "#         return array([sigma * (x[1] - x[0]),\n",
    "#                      rho*x[0] - x[1] - x[0]*x[2],\n",
    "#                      x[0]*x[1] - beta*x[2]])\n",
    "#     return model\n",
    "\n",
    "sigma = 10\n",
    "b = 8/3\n",
    "r = 28\n",
    "\n",
    "eq = diff_eq.DifferentialEquation()\n",
    "\n",
    "(xy,) = eq.generate_quantities(1)\n",
    "\n",
    "# The Lorenz equations\n",
    "\n",
    "eq.define_quantity(xy, np.array([0.1, 0.1, 0.1]), 0, 1)(tf.stack(\n",
    "                            [sigma * (xy.d(0)[1] - xy.d(0)[0]),\n",
    "                            r * xy.d(0)[0] - xy.d(0)[1] - (xy.d(0)[0] * xy.d(0)[2]),\n",
    "                            xy.d(0)[0] * xy.d(0)[1] - (b * xy.d(0)[2])]))\n",
    "\n",
    "sess = tf.Session()\n",
    "sess.run(tf.initialize_all_variables())\n",
    "simulate_op = eq.generate_simulate_operation(0.025)\n",
    "\n",
    "xs = np.zeros(2000)\n",
    "ys = np.zeros(2000)\n",
    "zs = np.zeros(2000)\n",
    "ts = np.zeros(2000)\n",
    "(x, y, z) = (xy.d(0)[0], xy.d(0)[1], xy.d(0)[2])\n",
    "for i in tqdm.tqdm(range(2000)):\n",
    "    xs[i] = sess.run(x)\n",
    "    ys[i] = sess.run(y)\n",
    "    zs[i] = sess.run(z)\n",
    "    if i < 1999:\n",
    "        sess.run(simulate_op)\n",
    "        sess.run(simulate_op)\n",
    "        sess.run(simulate_op)\n",
    "        ts[i+1] = ts[i] + 0.01\n",
    "\n",
    "fig = plt.figure()\n",
    "plt.plot(ts, xs)\n",
    "plt.legend()\n",
    "\n",
    "plt.show()\n",
    "\n",
    "fig = plt.figure()\n",
    "plt.plot(ts, xs)\n",
    "plt.legend()\n",
    "\n",
    "plt.show()\n"
   ]
  },
  {
   "cell_type": "markdown",
   "metadata": {},
   "source": [
    "#### Reaction-Diffusion Formulation  "
   ]
  },
  {
   "cell_type": "code",
   "execution_count": 8,
   "metadata": {},
   "outputs": [],
   "source": [
    "# Borked until PDEs on fractal boundaries work"
   ]
  },
  {
   "cell_type": "markdown",
   "metadata": {},
   "source": [
    "#### Damped SHM Formulation"
   ]
  },
  {
   "cell_type": "code",
   "execution_count": 9,
   "metadata": {},
   "outputs": [
    {
     "name": "stderr",
     "output_type": "stream",
     "text": [
      "100%|██████████| 2000/2000 [00:06<00:00, 304.85it/s]\n",
      "No handles with labels found to put in legend.\n"
     ]
    },
    {
     "data": {
      "image/png": "[encoded data removed]",
      "text/plain": [
       "<matplotlib.figure.Figure at 0x7cfd70428588>"
      ]
     },
     "metadata": {},
     "output_type": "display_data"
    }
   ],
   "source": [
    "# Ye Olde Mouldy Funktion\n",
    "\n",
    "# def DampedSHM(r=None, s=None, m=None):\n",
    "#     def model(x, t, r=r, s=s, m=m):\n",
    "#         return array([x[1],\n",
    "#                      (-r*x[1] - s*x[0])/m])\n",
    "#     return model\n",
    "\n",
    "eq = diff_eq.DifferentialEquation()\n",
    "\n",
    "(xy,) = eq.generate_quantities(1)\n",
    "\n",
    "r = 0.035\n",
    "s = 0.5\n",
    "m = 0.2\n",
    "\n",
    "eq.define_quantity(xy, np.array([0.1, 0.1]), 0, 1)(tf.stack([xy.d(0)[1],\n",
    "                                                            (-r * xy.d(0)[1] - s * xy.d(0)[0])/m]))\n",
    "\n",
    "# Start tensorflow session\n",
    "sess = tf.Session()\n",
    "sess.run(tf.initialize_all_variables())\n",
    "simulate_op = eq.generate_simulate_operation(0.025)\n",
    "\n",
    "xs = np.zeros(2000)\n",
    "ys = np.zeros(2000)\n",
    "ts = np.zeros(2000)\n",
    "(x, y) = (xy.d(0)[0], xy.d(0)[1])\n",
    "for i in tqdm.tqdm(range(2000)):\n",
    "    xs[i] = sess.run(x)\n",
    "    ys[i] = sess.run(y)\n",
    "    if i < 1999:\n",
    "        sess.run(simulate_op)\n",
    "        sess.run(simulate_op)\n",
    "        ts[i+1] = ts[i] + 0.01\n",
    "\n",
    "fig = plt.figure()\n",
    "plt.plot(ts, xs)\n",
    "plt.legend()\n",
    "\n",
    "plt.show()\n"
   ]
  },
  {
   "cell_type": "markdown",
   "metadata": {},
   "source": [
    "#### Fitzhugh-Nagumo Formulation"
   ]
  },
  {
   "cell_type": "code",
   "execution_count": 10,
   "metadata": {},
   "outputs": [
    {
     "name": "stderr",
     "output_type": "stream",
     "text": [
      "100%|██████████| 2000/2000 [00:05<00:00, 394.55it/s]\n",
      "No handles with labels found to put in legend.\n"
     ]
    },
    {
     "data": {
      "image/png": "[encoded data removed]",
      "text/plain": [
       "<matplotlib.figure.Figure at 0x7cfd70072f98>"
      ]
     },
     "metadata": {},
     "output_type": "display_data"
    }
   ],
   "source": [
    "# xdot = c(xdot + ydot - (xdot**3/3) + i)\n",
    "# ydot = -1/c(xdot - a + b*ydot)\n",
    "\n",
    "# Where:     a = (0.75, a)[a is not None]\n",
    "#            b = (0.8, b)[b is not None]\n",
    "#            c = (3, c)[c is not None]\n",
    "#            i = (-0.4, i)[i is not None]\n",
    "\n",
    "eq = diff_eq.DifferentialEquation()\n",
    "\n",
    "(xy,) = eq.generate_quantities(1)\n",
    "\n",
    "# and the parameters\n",
    "a = 0.75\n",
    "b = 0.8\n",
    "c = 3\n",
    "i = -0.4\n",
    "\n",
    "# The Fitzhugh-Nagumo equations\n",
    "eq.define_quantity(xy, np.array([0.1, 0.1]), 0, 1)(tf.stack([c * (xy.d(0)[0] + xy.d(0)[1] - (xy.d(0)[0]**3/3) + i),\n",
    "                                                            -1/c * (xy.d(0)[0] - a + b*xy.d(0)[1])]))\n",
    "\n",
    "# Start tensorflow session\n",
    "sess = tf.Session()\n",
    "sess.run(tf.initialize_all_variables())\n",
    "simulate_op = eq.generate_simulate_operation(0.025)\n",
    "\n",
    "xs = np.zeros(2000)\n",
    "ys = np.zeros(2000)\n",
    "ts = np.zeros(2000)\n",
    "(x, y) = (xy.d(0)[0], xy.d(0)[1])\n",
    "for i in tqdm.tqdm(range(2000)):\n",
    "    xs[i] = sess.run(x)\n",
    "    ys[i] = sess.run(y)\n",
    "    if i < 1999:\n",
    "        sess.run(simulate_op)\n",
    "        sess.run(simulate_op)\n",
    "        ts[i+1] = ts[i] + 0.01\n",
    "\n",
    "fig = plt.figure()\n",
    "plt.plot(ts, xs)\n",
    "plt.legend()\n",
    "\n",
    "plt.show()\n"
   ]
  },
  {
   "cell_type": "markdown",
   "metadata": {},
   "source": [
    "#### Izhikevich Formulation"
   ]
  },
  {
   "cell_type": "code",
   "execution_count": 11,
   "metadata": {},
   "outputs": [
    {
     "ename": "SyntaxError",
     "evalue": "invalid syntax (<ipython-input-11-5b1f0b1c936c>, line 25)",
     "output_type": "error",
     "traceback": [
      "\u001b[0;36m  File \u001b[0;32m\"<ipython-input-11-5b1f0b1c936c>\"\u001b[0;36m, line \u001b[0;32m25\u001b[0m\n\u001b[0;31m    [if xy.d(0)[0] >= 30:\u001b[0m\n\u001b[0m      ^\u001b[0m\n\u001b[0;31mSyntaxError\u001b[0m\u001b[0;31m:\u001b[0m invalid syntax\n"
     ]
    }
   ],
   "source": [
    "# Ye Olde Mouldy Funktion\n",
    "\n",
    "# def Izhikevich(a=None, b=None, c=None, d=None, i=None):\n",
    "#     def model(x, t, a=a, b=b, c=c, d=d, i=i):\n",
    "#         if x[0] >= 30:\n",
    "#             x[0] = c\n",
    "#             x[1] += d\n",
    "#         return array([0.04*(x[0]**2) + 5*x[0] + 140 - x[1] + i,\n",
    "#                      a*(b*x[0] - x[1])])\n",
    "#     return model\n",
    "\n",
    "eq = diff_eq.DifferentialEquation()\n",
    "\n",
    "(xy,) = eq.generate_quantities(1)\n",
    "\n",
    "# and the parameters\n",
    "a = 0.75\n",
    "b = 0.8\n",
    "c = 3\n",
    "d = 2\n",
    "i = -0.4\n",
    "\n",
    "# The Izhikevich equations\n",
    "eq.define_quantity(xy,np.array([0.1, 0.1]), 0, 1)(tf.stack(\n",
    "                                    [if xy.d(0)[0] >= 30:\n",
    "                                            xy.d(0)[0] = c\n",
    "                                            xy.d(0)[1] += d\n",
    "                                        0.04 * (xy.d(0)[0]**2) + 5 * xy.d(0)[0] + 140 - xy.d(0)[1] + i,\n",
    "                                            a * (b * xy.d(0)[0] - xy.d(0)[1])]))"
   ]
  },
  {
   "cell_type": "markdown",
   "metadata": {},
   "source": [
    "#### Hodgkin-Huxley Formulation"
   ]
  },
  {
   "cell_type": "code",
   "execution_count": null,
   "metadata": {},
   "outputs": [],
   "source": []
  }
 ],
 "metadata": {
  "kernelspec": {
   "display_name": "Python [conda env:tensorflow_general]",
   "language": "python",
   "name": "conda-env-tensorflow_general-py"
  },
  "language_info": {
   "codemirror_mode": {
    "name": "ipython",
    "version": 3
   },
   "file_extension": ".py",
   "mimetype": "text/x-python",
   "name": "python",
   "nbconvert_exporter": "python",
   "pygments_lexer": "ipython3",
   "version": "3.6.4"
  }
 },
 "nbformat": 4,
 "nbformat_minor": 2
}
